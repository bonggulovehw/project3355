{
 "cells": [
  {
   "cell_type": "markdown",
   "metadata": {},
   "source": [
    "# 대본 전처리 끝낸 df, 전처리 과정 따로 올릴게요"
   ]
  },
  {
   "cell_type": "code",
   "execution_count": 8,
   "metadata": {},
   "outputs": [],
   "source": [
    "import pandas as pd\n",
    "df_chat=pd.read_excel('C:/Users/USER/Desktop/플젝/scene1.xlsx')\n",
    "df_chat2=pd.read_excel('C:/Users/USER/Desktop/플젝/scene2.xlsx')"
   ]
  },
  {
   "cell_type": "code",
   "execution_count": 13,
   "metadata": {},
   "outputs": [],
   "source": [
    "import requests\n",
    "# 파파고 스트링 번역\n",
    "\n",
    "def papago_translate(context):\n",
    "    try:\n",
    "        USER_ID = \"1rjN3zrT5BjNEDfGVaW9\" # 개발자센터에서 발급받은 Client ID 값\n",
    "        USER_SECRET = \"7HmOEBInZY\" # 개발자센터에서 발급받은 Client Secret 값\n",
    "        url = \"https://openapi.naver.com/v1/papago/n2mt\"\n",
    "        headers= {\"X-Naver-Client-Id\": USER_ID, \"X-Naver-Client-Secret\":USER_SECRET}\n",
    "        params = {\"source\": \"ko\", \"target\": \"en\", \"text\": context}\n",
    "        response = requests.post(url, headers=headers, data=params)\n",
    "        res = response.json()\n",
    "        return res['message']['result']['translatedText']\n",
    "    except:\n",
    "        return \"PAPAGO_FAILED\"\n",
    "\n",
    "# talk_list 번역\n",
    "def conv_translate(talk_list):\n",
    "    translated_list = []\n",
    "    for i in talk_list:\n",
    "        new = papago_translate(i)\n",
    "        translated_list.append(new)\n",
    "    return translated_list"
   ]
  },
  {
   "cell_type": "markdown",
   "metadata": {},
   "source": [
    "# scene1- 몽룡,춘향"
   ]
  },
  {
   "cell_type": "code",
   "execution_count": 10,
   "metadata": {},
   "outputs": [],
   "source": [
    "mongryong=[]\n",
    "chunhyang=[]\n",
    "for i in range(0,len(df_chat)):\n",
    "    if df_chat['name'][i]=='몽룡':\n",
    "        mongryong.append(df_chat['compound'][i])\n",
    "    elif df_chat['name'][i]=='춘향':\n",
    "        chunhyang.append(df_chat['compound'][i])\n",
    "    else:\n",
    "        pass    \n",
    "\n",
    "import numpy as np"
   ]
  },
  {
   "cell_type": "code",
   "execution_count": 15,
   "metadata": {},
   "outputs": [
    {
     "name": "stdout",
     "output_type": "stream",
     "text": [
      "                                   ###  worst compound-상황1  ####\n",
      "## 몽룡 compound 지수: -0.7345\n",
      "몽룡 : It's gone, motherfucker! What's the matter with you, interrupting such an important time?\n",
      "## 춘향 compound 지수: -0.4951\n",
      "춘향 : You're a little bad at dancing. (Excuse facial expressions and embroider the head.)\n"
     ]
    }
   ],
   "source": [
    "name_set=['몽룡','춘향']\n",
    "chat_for_viewing=df_chat['chat_eng']\n",
    "print('                                   ###  worst compound-상황1  ####')\n",
    "for j in name_set:\n",
    "    \n",
    "    for i in range(0,len(df_chat)):\n",
    "        if (df_chat['name'][i]==j) & (df_chat['compound'][i]==np.min(df_chat[df_chat['name']==j])['compound']):\n",
    "            print('##',j,'compound 지수:',df_chat['compound'][i])\n",
    "            print(j,':',chat_for_viewing[i])"
   ]
  },
  {
   "cell_type": "markdown",
   "metadata": {},
   "source": [
    "# scene2- 춘향,변사또"
   ]
  },
  {
   "cell_type": "code",
   "execution_count": 16,
   "metadata": {},
   "outputs": [],
   "source": [
    "chunhyang2=[]\n",
    "byun2=[]\n",
    "for i in range(0,len(df_chat2)):\n",
    "    if df_chat2['name'][i]=='춘향':\n",
    "        chunhyang2.append(df_chat2['compound'][i])\n",
    "    elif df_chat2['name'][i]=='사또':\n",
    "        byun2.append(df_chat2['compound'][i])\n",
    "    else:\n",
    "        pass    "
   ]
  },
  {
   "cell_type": "code",
   "execution_count": 18,
   "metadata": {},
   "outputs": [
    {
     "name": "stdout",
     "output_type": "stream",
     "text": [
      "                                   ###  worst compound-상황2  ####\n",
      "## 춘향 compound 지수: -0.593\n",
      "춘향 : Sir, where are you doing now? It's already been three months since we lost contact. My husband, who said he would be back soon if he passed the exam, did you forget about me? My lord!\n",
      "## 사또 compound 지수: -0.296\n",
      "사또 : Wait, even if you do this (with a soft accent again), would you refuse to make this Sato request?\n"
     ]
    }
   ],
   "source": [
    "name_set2=['춘향','사또']\n",
    "chat_for_viewing2=df_chat2['chat_eng']\n",
    "\n",
    "print('                                   ###  worst compound-상황2  ####')\n",
    "for j in name_set2:\n",
    "    \n",
    "    for i in range(0,len(df_chat2)):\n",
    "        if (df_chat2['name'][i]==j) & (df_chat2['compound'][i]==np.min(df_chat2[df_chat2['name']==j])['compound']):\n",
    "            print('##',j,'compound 지수:',df_chat2['compound'][i])\n",
    "            print(j,':',chat_for_viewing2[i])\n"
   ]
  },
  {
   "cell_type": "markdown",
   "metadata": {},
   "source": [
    "# scene1,2 비교"
   ]
  },
  {
   "cell_type": "code",
   "execution_count": 40,
   "metadata": {},
   "outputs": [],
   "source": [
    "def mean_sent(df,name):\n",
    "    score=(np.sum(df[(df['labeling']=='SoSo') & (df['name']==name)]['compound'])+\\\n",
    "    np.sum(2*df[(df['labeling']=='Good') & (df['name']==name)]['compound'])+\\\n",
    "    np.sum(2*df[(df['labeling']=='Bad') & (df['name']==name)]['compound']))/len(df[df['name']==name])\n",
    "    return np.round(score,4)\n",
    "\n",
    "#가중평균 한것, 감정이 soso일때는 그대로, good,bad일때는 *2 해줌으로써 부정적, 긍정적 감정의 비중을 높임"
   ]
  },
  {
   "cell_type": "code",
   "execution_count": 42,
   "metadata": {},
   "outputs": [
    {
     "data": {
      "text/plain": [
       "<matplotlib.lines.Line2D at 0x25cc452f320>"
      ]
     },
     "execution_count": 42,
     "metadata": {},
     "output_type": "execute_result"
    },
    {
     "data": {
      "text/plain": [
       "<Figure size 432x288 with 0 Axes>"
      ]
     },
     "metadata": {},
     "output_type": "display_data"
    },
    {
     "data": {
      "image/png": "[encoded data removed]",
      "text/plain": [
       "<Figure size 576x576 with 4 Axes>"
      ]
     },
     "metadata": {
      "needs_background": "light"
     },
     "output_type": "display_data"
    }
   ],
   "source": [
    "# 상황1,상황2의 춘향 감정변화\n",
    "import matplotlib\n",
    "import matplotlib.pyplot as plt\n",
    "%matplotlib inline\n",
    "fig=plt.figure()\n",
    "fig,ax_lst=plt.subplots(2,2,figsize=(8,8))\n",
    "\n",
    "\n",
    "ax_lst[0][0].plot(chunhyang)\n",
    "ax_lst[0][0].set_title('chunhyang, scene-1')\n",
    "ax_lst[0][0].set_ylim(-1,1)\n",
    "ax_lst[0][0].axhline(y=mean_sent(df_chat,'춘향'), color='r', linewidth=1,linestyle='--')\n",
    "ax_lst[0][1].plot(chunhyang2)\n",
    "ax_lst[0][1].set_title('chunhyang, scene-2')\n",
    "ax_lst[0][1].set_ylim(-1,1)\n",
    "ax_lst[0][1].axhline(y=mean_sent(df_chat2,'춘향'), color='r', linewidth=1,linestyle='--')\n",
    "\n",
    "#나머지 서브플롯 2개에 몽룡,변사또의 감정추이까지 넣으려 했으나 의미가 없을 것 같아 뺐어요"
   ]
  },
  {
   "cell_type": "code",
   "execution_count": 43,
   "metadata": {},
   "outputs": [
    {
     "name": "stdout",
     "output_type": "stream",
     "text": [
      "상황 1의 감정평균 # 춘향 : 0.3561\n",
      "상황 2의 감정평균 # 춘향 : 0.0179\n",
      "상황 1의 감정평균 # 몽룡 : 0.217\n",
      "상황 2의 감정평균 # 변사또 : 0.6386\n"
     ]
    }
   ],
   "source": [
    "print('상황 1의 감정평균 # 춘향 :',mean_sent(df_chat,'춘향'))\n",
    "print('상황 2의 감정평균 # 춘향 :',mean_sent(df_chat2,'춘향'))\n",
    "print('상황 1의 감정평균 # 몽룡 :',mean_sent(df_chat,'몽룡'))\n",
    "print('상황 2의 감정평균 # 변사또 :',mean_sent(df_chat2,'사또'))\n"
   ]
  }
 ],
 "metadata": {
  "kernelspec": {
   "display_name": "Python 3",
   "language": "python",
   "name": "python3"
  },
  "language_info": {
   "codemirror_mode": {
    "name": "ipython",
    "version": 3
   },
   "file_extension": ".py",
   "mimetype": "text/x-python",
   "name": "python",
   "nbconvert_exporter": "python",
   "pygments_lexer": "ipython3",
   "version": "3.7.3"
  }
 },
 "nbformat": 4,
 "nbformat_minor": 2
}
