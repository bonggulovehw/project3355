{
 "cells": [
  {
   "cell_type": "code",
   "execution_count": null,
   "metadata": {},
   "outputs": [],
   "source": [
    "import pandas as pd\n",
    "\n",
    "file=open('C:/Users/USER/Desktop/플젝/춘향전-상황1.txt','r')\n",
    "all=file.read()\n",
    "file.close()\n",
    "lines=all.split('\\n')\n",
    "chat=lines\n",
    "chat=pd.DataFrame(chat)\n",
    "chat=chat.rename(columns={0:'chat'})\n",
    "\n",
    "\n",
    "chat['chat']=chat['chat'].str.replace(';',':')\n",
    "chat['chat']=chat['chat'].str.replace(':','★')\n",
    "chat['chat']=chat['chat'].str.replace('[', '')\n",
    "\n",
    "for a,b in enumerate(chat['chat']):\n",
    "    if '★' in chat['chat'][a]:\n",
    "        pass\n",
    "    else:\n",
    "        chat=chat.drop([a])\n",
    "        \n",
    "chat=chat.reset_index()"
   ]
  },
  {
   "cell_type": "code",
   "execution_count": null,
   "metadata": {},
   "outputs": [],
   "source": [
    "name=[]\n",
    "chat_kor=[]\n",
    "for a,b in enumerate(chat['chat']):\n",
    "    name.append(chat['chat'][a].split('★',2)[0])\n",
    "for a,b in enumerate(chat['chat']):\n",
    "    chat_kor.append(chat['chat'][a].split('★',2)[1])\n",
    "\n",
    "df_chat=pd.DataFrame(data={'name':name,'chat_kor':chat_kor})"
   ]
  },
  {
   "cell_type": "code",
   "execution_count": null,
   "metadata": {},
   "outputs": [],
   "source": [
    "import requests\n",
    "# 파파고 스트링 번역\n",
    "\n",
    "def papago_translate(context):\n",
    "    try:\n",
    "        USER_ID = \"1rjN3zrT5BjNEDfGVaW9\" # 개발자센터에서 발급받은 Client ID 값\n",
    "        USER_SECRET = \"7HmOEBInZY\" # 개발자센터에서 발급받은 Client Secret 값\n",
    "        url = \"https://openapi.naver.com/v1/papago/n2mt\"\n",
    "        headers= {\"X-Naver-Client-Id\": USER_ID, \"X-Naver-Client-Secret\":USER_SECRET}\n",
    "        params = {\"source\": \"ko\", \"target\": \"en\", \"text\": context}\n",
    "        response = requests.post(url, headers=headers, data=params)\n",
    "        res = response.json()\n",
    "        return res['message']['result']['translatedText']\n",
    "    except:\n",
    "        return \"PAPAGO_FAILED\"\n",
    "\n",
    "# talk_list 번역\n",
    "def conv_translate(talk_list):\n",
    "    translated_list = []\n",
    "    for i in talk_list:\n",
    "        new = papago_translate(i)\n",
    "        translated_list.append(new)\n",
    "    return translated_list"
   ]
  },
  {
   "cell_type": "code",
   "execution_count": null,
   "metadata": {},
   "outputs": [],
   "source": [
    "df_chat['chat_eng']=conv_translate(df_chat['chat_kor'])\n",
    "\n",
    "chat_for_viewing=conv_translate(df_chat['chat_kor'])"
   ]
  },
  {
   "cell_type": "code",
   "execution_count": null,
   "metadata": {},
   "outputs": [],
   "source": [
    "from nltk.sentiment.vader import SentimentIntensityAnalyzer\n",
    "\n",
    "senti_analyzer=SentimentIntensityAnalyzer()\n",
    "def chat_compound(a):\n",
    "    score=senti_analyzer.polarity_scores(a)['compound']\n",
    "    return score\n",
    "def chat_labeling(a):\n",
    "    score=senti_analyzer.polarity_scores(a)['compound']\n",
    "    if score>=0.3:\n",
    "        return 'Good'\n",
    "    elif score<=-0.3:\n",
    "        return 'Bad'\n",
    "    else:\n",
    "        return 'SoSo'\n",
    "    return score\n",
    "df_chat['compound']=df_chat['chat_eng'].apply(lambda x:chat_compound(x))\n",
    "df_chat['labeling']=df_chat['chat_eng'].apply(lambda x:chat_labeling(x))\n",
    "        \n",
    "\n",
    "df_chat['name']=df_chat['name'].str.replace(' ','')"
   ]
  },
  {
   "cell_type": "code",
   "execution_count": null,
   "metadata": {},
   "outputs": [],
   "source": []
  },
  {
   "cell_type": "code",
   "execution_count": null,
   "metadata": {},
   "outputs": [],
   "source": []
  }
 ],
 "metadata": {
  "kernelspec": {
   "display_name": "Python 3",
   "language": "python",
   "name": "python3"
  },
  "language_info": {
   "codemirror_mode": {
    "name": "ipython",
    "version": 3
   },
   "file_extension": ".py",
   "mimetype": "text/x-python",
   "name": "python",
   "nbconvert_exporter": "python",
   "pygments_lexer": "ipython3",
   "version": "3.7.3"
  }
 },
 "nbformat": 4,
 "nbformat_minor": 2
}
